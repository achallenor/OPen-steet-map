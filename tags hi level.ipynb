{
 "cells": [
  {
   "cell_type": "code",
   "execution_count": 2,
   "metadata": {},
   "outputs": [],
   "source": [
    "osm_file = open(\"OSM Chester and Tarporley.xml\", \"r\")"
   ]
  },
  {
   "cell_type": "code",
   "execution_count": 3,
   "metadata": {},
   "outputs": [
    {
     "name": "stdout",
     "output_type": "stream",
     "text": [
      "{'bounds': 1,\n",
      " 'member': 43369,\n",
      " 'meta': 1,\n",
      " 'nd': 506000,\n",
      " 'node': 403972,\n",
      " 'note': 1,\n",
      " 'osm': 1,\n",
      " 'relation': 862,\n",
      " 'tag': 197441,\n",
      " 'way': 54669}\n"
     ]
    }
   ],
   "source": [
    "# %%writefile mapparser.py\n",
    "#!/usr/bin/env python\n",
    "import xml.etree.ElementTree as ET\n",
    "import pprint\n",
    "\n",
    "def count_tags(filename):\n",
    "    \"\"\"count tags in filename.\n",
    "    \n",
    "    Init 1 in dict if the key not exist, increment otherwise.\"\"\"\n",
    "    tags = {}\n",
    "    for ev,elem in ET.iterparse(filename):\n",
    "        tag = elem.tag\n",
    "        if tag not in tags.keys():\n",
    "            tags[tag] = 1\n",
    "        else:\n",
    "            tags[tag]+=1\n",
    "    return tags\n",
    "\n",
    "def test():\n",
    "\n",
    "    tags = count_tags(osm_file)\n",
    "    pprint.pprint(tags)\n",
    "\n",
    "if __name__ == \"__main__\":\n",
    "    test()"
   ]
  },
  {
   "cell_type": "code",
   "execution_count": null,
   "metadata": {},
   "outputs": [],
   "source": []
  }
 ],
 "metadata": {
  "kernelspec": {
   "display_name": "Python 3",
   "language": "python",
   "name": "python3"
  },
  "language_info": {
   "codemirror_mode": {
    "name": "ipython",
    "version": 3
   },
   "file_extension": ".py",
   "mimetype": "text/x-python",
   "name": "python",
   "nbconvert_exporter": "python",
   "pygments_lexer": "ipython3",
   "version": "3.7.5"
  }
 },
 "nbformat": 4,
 "nbformat_minor": 2
}
