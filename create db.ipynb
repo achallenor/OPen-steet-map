{
 "cells": [
  {
   "cell_type": "code",
   "execution_count": 4,
   "metadata": {},
   "outputs": [],
   "source": [
    "import sqlite3\n",
    "from sqlite3 import OperationalError\n",
    "\n",
    "import pandas\n",
    "\n",
    "# from https://github.com/awesome5team/General-Resources-Box/issues/7\n",
    "# from http://stackoverflow.com/questions/19472922/reading-external-sql-script-in-python\n",
    "def executeScriptsFromFile(filename):\n",
    "    # Open and read the file as a single buffer\n",
    "    fd = open(filename, 'r')\n",
    "    sqlFile = fd.read()\n",
    "    fd.close()\n",
    "\n",
    "    # all SQL commands (split on ';')\n",
    "    sqlCommands = sqlFile.split(';')\n",
    "\n",
    "    # Execute every command from the input file\n",
    "#    for command in sqlCommands:\n",
    "#        # This will skip and report errors\n",
    "#        # For example, if the tables do not yet exist, this will skip over\n",
    "#        # the DROP TABLE commands\n",
    "#        try:\n",
    "#            c.execute(command)\n",
    "#        except OperationalError, msg:\n",
    "#            print \"Command skipped: \", msg\n",
    "\n",
    "\n",
    "# Create a new empty db\n",
    "db = sqlite3.connect(\"Chester.sqlite\")\n",
    "db.text_factory = str\n",
    "c = db.cursor()\n",
    "\n",
    "\n",
    "# Create all tables\n",
    "executeScriptsFromFile(\"data_wrangling_schema.sql\")\n",
    "db.commit()\n",
    "\n",
    "# import data\n",
    "data_source = ['nodes', 'nodes_tags', 'ways', 'ways_tags', 'ways_nodes']\n",
    "for part in data_source:\n",
    "#    print \"Importing \" + part\n",
    "    df = pandas.read_csv(part + '.csv')\n",
    "    df.to_sql(part, db, if_exists='append', index=False)\n",
    "db.commit()\n",
    "\n",
    "\n",
    "\n",
    "\n",
    "db.close()"
   ]
  },
  {
   "cell_type": "code",
   "execution_count": null,
   "metadata": {},
   "outputs": [],
   "source": []
  }
 ],
 "metadata": {
  "kernelspec": {
   "display_name": "Python 3",
   "language": "python",
   "name": "python3"
  },
  "language_info": {
   "codemirror_mode": {
    "name": "ipython",
    "version": 3
   },
   "file_extension": ".py",
   "mimetype": "text/x-python",
   "name": "python",
   "nbconvert_exporter": "python",
   "pygments_lexer": "ipython3",
   "version": "3.7.5"
  }
 },
 "nbformat": 4,
 "nbformat_minor": 2
}
